{
 "cells": [
  {
   "cell_type": "code",
   "execution_count": 1,
   "id": "3027a4f0",
   "metadata": {},
   "outputs": [
    {
     "name": "stdout",
     "output_type": "stream",
     "text": [
      "Python 3.10.12 (main, Feb  4 2025, 14:57:36) [GCC 11.4.0] on linux\n"
     ]
    }
   ],
   "source": [
    "import os\n",
    "import sys; print('Python %s on %s' % (sys.version, sys.platform))\n",
    "sys.path.extend([os.path.abspath('..')])"
   ]
  },
  {
   "cell_type": "code",
   "execution_count": 2,
   "id": "14b760d9",
   "metadata": {},
   "outputs": [],
   "source": [
    "import torch.nn as nn\n",
    "import torch\n",
    "import os\n",
    "import pandas as pd\n",
    "import numpy as np\n",
    "from torch.utils.data import Dataset, DataLoader\n"
   ]
  },
  {
   "cell_type": "code",
   "execution_count": 63,
   "id": "af9a9cfe",
   "metadata": {},
   "outputs": [
    {
     "data": {
      "text/html": [
       "<div>\n",
       "<style scoped>\n",
       "    .dataframe tbody tr th:only-of-type {\n",
       "        vertical-align: middle;\n",
       "    }\n",
       "\n",
       "    .dataframe tbody tr th {\n",
       "        vertical-align: top;\n",
       "    }\n",
       "\n",
       "    .dataframe thead th {\n",
       "        text-align: right;\n",
       "    }\n",
       "</style>\n",
       "<table border=\"1\" class=\"dataframe\">\n",
       "  <thead>\n",
       "    <tr style=\"text-align: right;\">\n",
       "      <th></th>\n",
       "      <th>NEW_ID</th>\n",
       "      <th>Label</th>\n",
       "      <th>Short_label</th>\n",
       "      <th>Cortical Division</th>\n",
       "      <th>Cortical_Division_Number</th>\n",
       "      <th>X</th>\n",
       "      <th>Y</th>\n",
       "      <th>Z</th>\n",
       "      <th>ColeAnticevic_functional_network</th>\n",
       "      <th>ColeAnticevic_functional_network_label</th>\n",
       "    </tr>\n",
       "    <tr>\n",
       "      <th>HCPex_ID</th>\n",
       "      <th></th>\n",
       "      <th></th>\n",
       "      <th></th>\n",
       "      <th></th>\n",
       "      <th></th>\n",
       "      <th></th>\n",
       "      <th></th>\n",
       "      <th></th>\n",
       "      <th></th>\n",
       "      <th></th>\n",
       "    </tr>\n",
       "  </thead>\n",
       "  <tbody>\n",
       "    <tr>\n",
       "      <th>1</th>\n",
       "      <td>1</td>\n",
       "      <td>Primary_Visual_Cortex_L</td>\n",
       "      <td>L_V1</td>\n",
       "      <td>Primary_Visual</td>\n",
       "      <td>1</td>\n",
       "      <td>-10.078</td>\n",
       "      <td>-84.159</td>\n",
       "      <td>1.759</td>\n",
       "      <td>1</td>\n",
       "      <td>Visual1</td>\n",
       "    </tr>\n",
       "    <tr>\n",
       "      <th>181</th>\n",
       "      <td>2</td>\n",
       "      <td>Primary_Visual_Cortex_R</td>\n",
       "      <td>R_V1</td>\n",
       "      <td>Primary_Visual</td>\n",
       "      <td>1</td>\n",
       "      <td>12.231</td>\n",
       "      <td>-80.644</td>\n",
       "      <td>4.101</td>\n",
       "      <td>1</td>\n",
       "      <td>Visual1</td>\n",
       "    </tr>\n",
       "    <tr>\n",
       "      <th>2</th>\n",
       "      <td>3</td>\n",
       "      <td>Second_Visual_Area_L</td>\n",
       "      <td>L_V2</td>\n",
       "      <td>Early_Visual</td>\n",
       "      <td>2</td>\n",
       "      <td>-12.044</td>\n",
       "      <td>-82.059</td>\n",
       "      <td>4.029</td>\n",
       "      <td>2</td>\n",
       "      <td>Visual2</td>\n",
       "    </tr>\n",
       "    <tr>\n",
       "      <th>182</th>\n",
       "      <td>4</td>\n",
       "      <td>Second_Visual_Area_R</td>\n",
       "      <td>R_V2</td>\n",
       "      <td>Early_Visual</td>\n",
       "      <td>2</td>\n",
       "      <td>12.367</td>\n",
       "      <td>-78.138</td>\n",
       "      <td>5.714</td>\n",
       "      <td>2</td>\n",
       "      <td>Visual2</td>\n",
       "    </tr>\n",
       "    <tr>\n",
       "      <th>3</th>\n",
       "      <td>5</td>\n",
       "      <td>Third_Visual_Area_L</td>\n",
       "      <td>L_V3</td>\n",
       "      <td>Early_Visual</td>\n",
       "      <td>2</td>\n",
       "      <td>-16.607</td>\n",
       "      <td>-84.793</td>\n",
       "      <td>7.259</td>\n",
       "      <td>2</td>\n",
       "      <td>Visual2</td>\n",
       "    </tr>\n",
       "    <tr>\n",
       "      <th>...</th>\n",
       "      <td>...</td>\n",
       "      <td>...</td>\n",
       "      <td>...</td>\n",
       "      <td>...</td>\n",
       "      <td>...</td>\n",
       "      <td>...</td>\n",
       "      <td>...</td>\n",
       "      <td>...</td>\n",
       "      <td>...</td>\n",
       "      <td>...</td>\n",
       "    </tr>\n",
       "    <tr>\n",
       "      <th>424</th>\n",
       "      <td>422</td>\n",
       "      <td>Mammillary_bodies_R</td>\n",
       "      <td>R_MB</td>\n",
       "      <td>Subcortical</td>\n",
       "      <td>24</td>\n",
       "      <td>2.396</td>\n",
       "      <td>-7.792</td>\n",
       "      <td>-14.783</td>\n",
       "      <td>14</td>\n",
       "      <td>Subcortical</td>\n",
       "    </tr>\n",
       "    <tr>\n",
       "      <th>392</th>\n",
       "      <td>423</td>\n",
       "      <td>Septal_nucleus_L</td>\n",
       "      <td>L_Septum</td>\n",
       "      <td>Subcortical</td>\n",
       "      <td>24</td>\n",
       "      <td>-2.371</td>\n",
       "      <td>6.267</td>\n",
       "      <td>-4.375</td>\n",
       "      <td>14</td>\n",
       "      <td>Subcortical</td>\n",
       "    </tr>\n",
       "    <tr>\n",
       "      <th>425</th>\n",
       "      <td>424</td>\n",
       "      <td>Septal_nucleus_R</td>\n",
       "      <td>R_Septum</td>\n",
       "      <td>Subcortical</td>\n",
       "      <td>24</td>\n",
       "      <td>1.183</td>\n",
       "      <td>6.383</td>\n",
       "      <td>-3.046</td>\n",
       "      <td>14</td>\n",
       "      <td>Subcortical</td>\n",
       "    </tr>\n",
       "    <tr>\n",
       "      <th>393</th>\n",
       "      <td>425</td>\n",
       "      <td>Nuclei_basal_L</td>\n",
       "      <td>L_Nb</td>\n",
       "      <td>Subcortical</td>\n",
       "      <td>24</td>\n",
       "      <td>-13.841</td>\n",
       "      <td>-0.372</td>\n",
       "      <td>-10.888</td>\n",
       "      <td>14</td>\n",
       "      <td>Subcortical</td>\n",
       "    </tr>\n",
       "    <tr>\n",
       "      <th>426</th>\n",
       "      <td>426</td>\n",
       "      <td>Nuclei_basal_R</td>\n",
       "      <td>R_Nb</td>\n",
       "      <td>Subcortical</td>\n",
       "      <td>24</td>\n",
       "      <td>15.358</td>\n",
       "      <td>-0.234</td>\n",
       "      <td>-10.039</td>\n",
       "      <td>14</td>\n",
       "      <td>Subcortical</td>\n",
       "    </tr>\n",
       "  </tbody>\n",
       "</table>\n",
       "<p>426 rows × 10 columns</p>\n",
       "</div>"
      ],
      "text/plain": [
       "          NEW_ID                    Label Short_label Cortical Division  \\\n",
       "HCPex_ID                                                                  \n",
       "1              1  Primary_Visual_Cortex_L        L_V1    Primary_Visual   \n",
       "181            2  Primary_Visual_Cortex_R        R_V1    Primary_Visual   \n",
       "2              3     Second_Visual_Area_L        L_V2      Early_Visual   \n",
       "182            4     Second_Visual_Area_R        R_V2      Early_Visual   \n",
       "3              5      Third_Visual_Area_L        L_V3      Early_Visual   \n",
       "...          ...                      ...         ...               ...   \n",
       "424          422      Mammillary_bodies_R        R_MB       Subcortical   \n",
       "392          423         Septal_nucleus_L    L_Septum       Subcortical   \n",
       "425          424         Septal_nucleus_R    R_Septum       Subcortical   \n",
       "393          425           Nuclei_basal_L        L_Nb       Subcortical   \n",
       "426          426           Nuclei_basal_R        R_Nb       Subcortical   \n",
       "\n",
       "          Cortical_Division_Number       X       Y       Z  \\\n",
       "HCPex_ID                                                     \n",
       "1                                1 -10.078 -84.159   1.759   \n",
       "181                              1  12.231 -80.644   4.101   \n",
       "2                                2 -12.044 -82.059   4.029   \n",
       "182                              2  12.367 -78.138   5.714   \n",
       "3                                2 -16.607 -84.793   7.259   \n",
       "...                            ...     ...     ...     ...   \n",
       "424                             24   2.396  -7.792 -14.783   \n",
       "392                             24  -2.371   6.267  -4.375   \n",
       "425                             24   1.183   6.383  -3.046   \n",
       "393                             24 -13.841  -0.372 -10.888   \n",
       "426                             24  15.358  -0.234 -10.039   \n",
       "\n",
       "          ColeAnticevic_functional_network  \\\n",
       "HCPex_ID                                     \n",
       "1                                        1   \n",
       "181                                      1   \n",
       "2                                        2   \n",
       "182                                      2   \n",
       "3                                        2   \n",
       "...                                    ...   \n",
       "424                                     14   \n",
       "392                                     14   \n",
       "425                                     14   \n",
       "393                                     14   \n",
       "426                                     14   \n",
       "\n",
       "         ColeAnticevic_functional_network_label  \n",
       "HCPex_ID                                         \n",
       "1                                       Visual1  \n",
       "181                                     Visual1  \n",
       "2                                       Visual2  \n",
       "182                                     Visual2  \n",
       "3                                       Visual2  \n",
       "...                                         ...  \n",
       "424                                 Subcortical  \n",
       "392                                 Subcortical  \n",
       "425                                 Subcortical  \n",
       "393                                 Subcortical  \n",
       "426                                 Subcortical  \n",
       "\n",
       "[426 rows x 10 columns]"
      ]
     },
     "execution_count": 63,
     "metadata": {},
     "output_type": "execute_result"
    }
   ],
   "source": [
    "hcp"
   ]
  },
  {
   "cell_type": "code",
   "execution_count": 64,
   "id": "46a3268b",
   "metadata": {},
   "outputs": [],
   "source": [
    "hcp = pd.read_excel('/home/tm/projects/OpenCloseBaseline/atlas/HCPex_Atlas_Description.xlsx',\n",
    "                            index_col='HCPex_ID')\n",
    "hcp.drop([337, 343, 344, 366], axis=0, inplace=True)"
   ]
  },
  {
   "cell_type": "code",
   "execution_count": 65,
   "id": "dbc58707",
   "metadata": {},
   "outputs": [],
   "source": [
    "import os\n",
    "import pandas as pd\n",
    "import numpy as np\n",
    "from scipy.stats import zscore\n",
    "from sklearn.model_selection import train_test_split\n",
    "import pickle\n",
    "from typing import Tuple, List, Optional, Callable\n",
    "from nilearn.connectome import ConnectivityMeasure\n",
    "import numpy as np\n",
    "\n",
    "\n",
    "\n",
    "\n",
    "def load_rmet(strategy, atlas, GSR):\n",
    "\n",
    "    sub = [f'{i+1:03d}' for i in range(64) if i!= 52]\n",
    "    closed = fetch_ts('/data/Projects/OpenCloseChina/ts', sub=sub, GSR=GSR,\n",
    "                      run=1, task='rest', strategy=strategy, atlas_name=atlas)\n",
    "    opened = fetch_ts('/data/Projects/OpenCloseChina/ts', sub=sub, GSR=GSR,\n",
    "                      run=2, task='rest', strategy=strategy, atlas_name=atlas)\n",
    "    \n",
    "    if atlas == 'HCPex':\n",
    "        hcp = pd.read_excel('/home/tm/projects/OpenCloseBaseline/HCPex_Atlas_Description.xlsx',\n",
    "                            index_col='HCPex_ID')\n",
    "        \n",
    "        to_del = [390]\n",
    "        hcp.drop(to_del, axis=0, inplace=True)\n",
    "        drop = [365, 372, 396, 398, 401, 405]\n",
    "\n",
    "        for i in closed:\n",
    "            i.columns = hcp.index\n",
    "            i.drop(drop, axis=1, inplace=True)\n",
    "\n",
    "        for i in opened:\n",
    "            i.columns = hcp.index\n",
    "            i.drop(drop, axis=1, inplace=True)\n",
    "    \n",
    "    closed = zscore(closed, axis=1, nan_policy='omit')\n",
    "    opened = zscore(opened, axis=1, nan_policy='omit')\n",
    "\n",
    "    #np.nan_to_num(closed, copy=False)\n",
    "    #np.nan_to_num(opened, copy=False)\n",
    "\n",
    "    n_closed, n_opened = closed.shape[0], opened.shape[0]\n",
    "\n",
    "    #X = np.concatenate([closed, opened], axis=0)\n",
    "    y = np.array([0] * n_closed + [1] * n_opened)\n",
    "    groups = np.array([i for i in range(n_closed)] + \n",
    "                      [i for i in range(n_opened)])\n",
    "    \n",
    "    return closed, opened, y, groups\n",
    "\n",
    "def load_ihb(strategy, atlas, GSR):\n",
    "\n",
    "    coverage = np.load(f'/home/tm/projects/OpenCloseProject/coverage/ihb_{atlas}_parcel_coverage.npy') > 0.1\n",
    "\n",
    "    sub = [f'{i+1:03d}' for i in range(84)]\n",
    "    closed = fetch_ts('/data/Projects/OpenCloseIHB/outputs', sub=sub, GSR=GSR,\n",
    "                      run=1, task='rest', strategy=strategy, atlas_name=atlas)\n",
    "    opened = fetch_ts('/data/Projects/OpenCloseIHB/outputs', sub=sub, GSR=GSR,\n",
    "                      run=2, task='rest', strategy=strategy, atlas_name=atlas)\n",
    "    hcp = None\n",
    "    if atlas == 'HCPex':\n",
    "        hcp = pd.read_excel('/home/tm/projects/OpenCloseBaseline/atlas/HCPex_Atlas_Description.xlsx',\n",
    "                            index_col='HCPex_ID')\n",
    "        \n",
    "        to_del = [365, 398, 401]\n",
    "        hcp.drop(to_del, axis=0, inplace=True)\n",
    "        drop = [372, 390, 396, 405]\n",
    "\n",
    "        for i in closed:\n",
    "            i.columns = hcp.index\n",
    "            i.drop(drop, axis=1, inplace=True)\n",
    "\n",
    "        for i in opened:\n",
    "            i.columns = hcp.index\n",
    "            i.drop(drop, axis=1, inplace=True)\n",
    "\n",
    "        coverage = np.delete(coverage, to_del+drop)\n",
    "\n",
    "    # shape = [sub, ts, roi]\n",
    "\n",
    "    closed = np.array(closed)[:, :, coverage]\n",
    "    opened = np.array(opened)[:, :, coverage]\n",
    "\n",
    "    if atlas == 'HCPex':\n",
    "        closed = np.delete(closed, [337, 343, 344, 366], axis=2)\n",
    "        opened = np.delete(opened, [337, 343, 344, 366], axis=2)\n",
    "        #hcp.drop([337, 343, 344, 366], axis=1, inplace=True)\n",
    "\n",
    "\n",
    "    closed = zscore(closed, axis=1, nan_policy='omit') \n",
    "    opened = zscore(opened, axis=1, nan_policy='omit')\n",
    "\n",
    "    n_closed, n_opened = closed.shape[0], opened.shape[0]\n",
    "\n",
    "    #X = np.concatenate([closed, opened], axis=0)\n",
    "    y = np.array([0] * n_closed + [1] * n_opened)\n",
    "    groups = np.array([i for i in range(n_closed)] + \n",
    "                      [i for i in range(n_opened)])\n",
    "    \n",
    "    return closed, opened, y#, groups, hcp\n",
    "\n",
    "\n",
    "def load_china(strategy, atlas, GSR):\n",
    "\n",
    "    coverage = np.load(f'/home/tm/projects/OpenCloseProject/coverage/ihb_{atlas}_parcel_coverage.npy') > 0.1\n",
    "\n",
    "    df = pd.read_csv(r\"/arch/OpenCloseBeijin/BeijingEOEC.csv\")\n",
    "\n",
    "    open_ids2 = df['SubjectID'].loc[df['Session_2'] == 'open'].values\n",
    "    open_ids3 = df['SubjectID'].loc[df['Session_3'] == 'open'].values\n",
    "\n",
    "    closed_ids1 = df['SubjectID'].loc[df['Session_1'] == 'closed'].values\n",
    "    closed_ids2 = df['SubjectID'].loc[df['Session_2'] == 'closed'].values\n",
    "    closed_ids3 = df['SubjectID'].loc[df['Session_3'] == 'closed'].values\n",
    "\n",
    "    closed1 = fetch_ts('/data/Projects/OpenCloseChina/outputs_china',\n",
    "                  sub=closed_ids1, run=1, GSR=GSR,\n",
    "                  atlas_name=atlas, strategy=strategy)\n",
    "\n",
    "    closed2 = fetch_ts('/data/Projects/OpenCloseChina/outputs_china',\n",
    "                        sub=closed_ids2, run=2, GSR=GSR,\n",
    "                        atlas_name=atlas, strategy=strategy)\n",
    "\n",
    "    closed3 = fetch_ts('/data/Projects/OpenCloseChina/outputs_china',\n",
    "                        sub=closed_ids3, run=3, GSR=GSR,\n",
    "                        atlas_name=atlas, strategy=strategy)\n",
    "\n",
    "    opened2 = fetch_ts('/data/Projects/OpenCloseChina/outputs_china',\n",
    "                        sub=open_ids2, run=2, GSR=GSR,\n",
    "                        atlas_name=atlas, strategy=strategy)\n",
    "    \n",
    "    opened3 = fetch_ts('/data/Projects/OpenCloseChina/outputs_china',\n",
    "                        sub=open_ids3, run=3, GSR=GSR,\n",
    "                        atlas_name=atlas, strategy=strategy)\n",
    "    \n",
    "    \n",
    "\n",
    "    for en, i in enumerate(closed3):\n",
    "        if len(i) < 240:\n",
    "            np.delete(closed_ids3, en)\n",
    "            del closed3[en]\n",
    "    for en, i in enumerate(opened2):\n",
    "        if len(i) < 240:\n",
    "            np.delete(open_ids2, en)\n",
    "            del opened2[en]\n",
    "\n",
    "    closed = closed1 + closed2 + closed3\n",
    "    opened = opened2 + opened3\n",
    "\n",
    "    #del opened[22]\n",
    "    #del closed[84]\n",
    "\n",
    "    if atlas == 'HCPex':\n",
    "        hcp = pd.read_excel('/home/tm/projects/OpenCloseBaseline/atlas/HCPex_Atlas_Description.xlsx',\n",
    "                            index_col='HCPex_ID')\n",
    "        \n",
    "        to_del = [365, 372, 396, 401, 405]\n",
    "        hcp.drop(to_del, axis=0, inplace=True)\n",
    "        drop = [390, 398]\n",
    "\n",
    "        for i in closed:\n",
    "            i.columns = hcp.index\n",
    "            i.drop(drop, axis=1, inplace=True)\n",
    "            \n",
    "        for i in opened:\n",
    "            i.columns = hcp.index\n",
    "            i.drop(drop, axis=1, inplace=True)\n",
    "\n",
    "        coverage = np.delete(coverage, to_del+drop)\n",
    "            \n",
    "    closed = np.array(closed)[:, :, coverage]\n",
    "    opened = np.array(opened)[:, :, coverage]\n",
    "\n",
    "    if atlas == 'HCPex':\n",
    "        closed = np.delete(closed, [337, 343, 344, 366], axis=2)\n",
    "        opened = np.delete(opened, [337, 343, 344, 366], axis=2)\n",
    "\n",
    "    n_opened = opened.shape[0]\n",
    "\n",
    "    closed = zscore(closed, axis=1, nan_policy='raise')[:n_opened]\n",
    "    opened = zscore(opened, axis=1, nan_policy='raise')\n",
    "\n",
    "\n",
    "    \n",
    "\n",
    "    #op, cl = [], []\n",
    "    #for en, i in enumerate(closed_ids1):\n",
    "        #cl.append(en)\n",
    "        #if i in open_ids2 or i in open_ids3:\n",
    "            #op.append(en)\n",
    "        #if i in closed_ids2 or i in closed_ids3:\n",
    "            #cl.append(en)\n",
    "\n",
    "    #del op[22]\n",
    "    #del cl[84]\n",
    "\n",
    "    #X = np.concatenate([closed, opened], axis=0)\n",
    "    y = np.array([0] * n_opened + [1] * n_opened)\n",
    "    #groups = np.array(cl + op)\n",
    "\n",
    "    return closed, opened, y#, groups\n",
    "\n",
    "\n",
    "def fetch_ts(path, sub=None, run=1, task='rest', strategy=4, atlas_name='AAL', GSR=False):\n",
    "    ts = []\n",
    "    if sub is None:\n",
    "        sub = os.listdir(path)\n",
    "    failed = []\n",
    "    for i in sub:\n",
    "        if not isinstance(i, str):\n",
    "            i = str(i)\n",
    "        if 'sub' in i:\n",
    "            i = i[4:]\n",
    "        try:\n",
    "            name = (f'sub-{i}_task-{task}_run-{run}_time-series_{atlas_name}_strategy-{strategy}_GSR.csv' if GSR \n",
    "                    else f'sub-{i}_task-{task}_run-{run}_time-series_{atlas_name}_strategy-{strategy}.csv')\n",
    "            path_to_file = os.path.join(path, f'sub-{i}', 'time-series', atlas_name, name)\n",
    "            #print(path_to_file)\n",
    "            ts.append(pd.read_csv(path_to_file))#.values)\n",
    "        except FileNotFoundError:\n",
    "            failed.append(i)\n",
    "            continue\n",
    "\n",
    "    if len(failed) > 0:\n",
    "        print('no files available:', failed)\n",
    "        \n",
    "    return ts"
   ]
  },
  {
   "cell_type": "code",
   "execution_count": 60,
   "id": "4865e1b2",
   "metadata": {},
   "outputs": [],
   "source": [
    "#closed, opened, y = load_ihb(4, 'HCPex', True)\n",
    "b = load_china(4, 'HCPex', True)"
   ]
  },
  {
   "cell_type": "code",
   "execution_count": 53,
   "id": "f7987f1d",
   "metadata": {},
   "outputs": [
    {
     "data": {
      "text/plain": [
       "array([0, 0, 0, 0, 0, 0, 0, 0, 0, 0, 0, 0, 0, 0, 0, 0, 0, 0, 0, 0, 0, 0,\n",
       "       0, 0, 0, 0, 0, 0, 0, 0, 0, 0, 0, 0, 0, 0, 0, 0, 0, 0, 0, 0, 0, 0,\n",
       "       0, 0, 0, 1, 1, 1, 1, 1, 1, 1, 1, 1, 1, 1, 1, 1, 1, 1, 1, 1, 1, 1,\n",
       "       1, 1, 1, 1, 1, 1, 1, 1, 1, 1, 1, 1, 1, 1, 1, 1, 1, 1, 1, 1, 1, 1,\n",
       "       1, 1, 1, 1, 1, 1])"
      ]
     },
     "execution_count": 53,
     "metadata": {},
     "output_type": "execute_result"
    }
   ],
   "source": [
    "b[2]"
   ]
  },
  {
   "cell_type": "code",
   "execution_count": 67,
   "id": "09f596bd",
   "metadata": {},
   "outputs": [],
   "source": [
    "def get_split_ts(strategy, atlas, GSR):\n",
    "    ihb_closed, ihb_opened, _ = load_ihb(strategy, atlas, GSR)\n",
    "    china_closed, china_opened, china_y = load_china(strategy, atlas, GSR)\n",
    "\n",
    "    train_idx, test_idx = train_test_split(\n",
    "        np.arange(len(ihb_closed)), train_size=0.1, random_state=42)\n",
    "    \n",
    "    x_train = np.concatenate([ihb_closed[train_idx], ihb_opened[train_idx], \n",
    "                              china_closed[:, :120, :], china_opened[:, :120, :]], axis=0)\n",
    "    \n",
    "    y_train = np.concatenate([[0] * len(train_idx), [1] * len(train_idx), \n",
    "                              china_y], axis=0)\n",
    "    \n",
    "    x_test = np.concatenate([ihb_closed[test_idx], ihb_opened[test_idx]], axis=0)\n",
    "    \n",
    "    y_test = np.concatenate([[0] * len(test_idx), [1] * len(test_idx)], axis=0)\n",
    "    \n",
    "    return x_train, y_train, x_test, y_test\n",
    "\n",
    "x_train, y_train, x_test, y_test = get_split_ts(4, 'HCPex', True)"
   ]
  },
  {
   "cell_type": "code",
   "execution_count": 68,
   "id": "c2a0f8fb",
   "metadata": {},
   "outputs": [],
   "source": [
    "class TimeDataset(Dataset):\n",
    "    def __init__(self, data, labels):\n",
    "        self.data = torch.FloatTensor(data)\n",
    "        self.labels = torch.LongTensor(labels)\n",
    "\n",
    "    def __len__(self):\n",
    "        return len(self.data)\n",
    "\n",
    "    def __getitem__(self, index):\n",
    "        return self.data[index], self.labels[index]\n",
    "    \n",
    "\n",
    "train_dataset = TimeDataset(x_train, y_train)\n",
    "val_dataset = TimeDataset(x_test, y_test)\n",
    "\n",
    "train_loader = DataLoader(train_dataset, batch_size=32, shuffle=True)\n",
    "val_loader = DataLoader(val_dataset, batch_size=32, shuffle=False)"
   ]
  },
  {
   "cell_type": "code",
   "execution_count": null,
   "id": "360f9f9b",
   "metadata": {},
   "outputs": [],
   "source": [
    "from model.logreg import LogisticRegression\n",
    "model = LogisticRegression(x_train[1].shape[0], 1024, 2)\n",
    "\n",
    "criterion = nn.CrossEntropyLoss()\n",
    "optimizer = torch.optim.Adam(model.parameters(), lr=0.001)\n",
    "\n",
    "epochs = 20\n",
    "h = train(model, epochs, train_loader, val_loader, criterion, optimizer, scheduler=None, save_best=False, path_to_save=None)"
   ]
  },
  {
   "cell_type": "code",
   "execution_count": null,
   "id": "1e19caf6",
   "metadata": {},
   "outputs": [],
   "source": []
  },
  {
   "cell_type": "code",
   "execution_count": null,
   "id": "ba9888e2",
   "metadata": {},
   "outputs": [],
   "source": []
  },
  {
   "cell_type": "code",
   "execution_count": null,
   "id": "44c25389",
   "metadata": {},
   "outputs": [],
   "source": []
  },
  {
   "cell_type": "code",
   "execution_count": null,
   "id": "d471cc17",
   "metadata": {},
   "outputs": [],
   "source": []
  },
  {
   "cell_type": "code",
   "execution_count": 70,
   "id": "a6a0ca48",
   "metadata": {},
   "outputs": [],
   "source": [
    "from random import uniform, randint\n",
    "\n",
    "import torch\n",
    "from torch import nn\n",
    "\n",
    "\n",
    "\n",
    "class ResidualBlock(nn.Module):\n",
    "    \"\"\"Residual block\"\"\"\n",
    "\n",
    "    def __init__(self, block):\n",
    "        super().__init__()\n",
    "        self.block = block\n",
    "\n",
    "    def forward(self, x: torch.Tensor):\n",
    "        return self.block(x) + x\n",
    "\n",
    "\n",
    "class MeanMLP(nn.Module):\n",
    "    \"\"\"\n",
    "    meanMLP model for fMRI data.\n",
    "    Expected input shape: [batch_size, time_length, input_feature_size].\n",
    "    Output: [batch_size, n_classes]\n",
    "\n",
    "    Hyperparameters expected in model_cfg:\n",
    "        dropout: float\n",
    "        hidden_size: int\n",
    "        num_layers: int\n",
    "    Data info expected in model_cfg:\n",
    "        input_size: int - input_feature_size\n",
    "        output_size: int - n_classes\n",
    "    \"\"\"\n",
    "\n",
    "    def __init__(self, input_size, output_size, dropout, hidden_size, num_layers):\n",
    "        super().__init__()\n",
    "\n",
    "\n",
    "        # input block\n",
    "        layers = [\n",
    "            nn.Linear(input_size, hidden_size),\n",
    "            nn.LayerNorm(hidden_size),\n",
    "            nn.ReLU(),\n",
    "            nn.Dropout(p=dropout),\n",
    "        ]\n",
    "        # inter blocks: default HPs model has none of them\n",
    "        for _ in range(num_layers):\n",
    "            layers.append(\n",
    "                nn.Sequential(\n",
    "                    ResidualBlock(\n",
    "                        nn.Sequential(\n",
    "                            nn.Linear(hidden_size, hidden_size),\n",
    "                            nn.LayerNorm(hidden_size),\n",
    "                        )\n",
    "                    ),\n",
    "                    nn.ReLU(),\n",
    "                    nn.Dropout(p=dropout),\n",
    "                ),\n",
    "            )\n",
    "\n",
    "        # output block\n",
    "        layers.append(\n",
    "            nn.Linear(hidden_size, output_size),\n",
    "        )\n",
    "\n",
    "        self.fc = nn.Sequential(*layers)\n",
    "\n",
    "    def forward(self, x: torch.Tensor, introspection=False):\n",
    "        bs, tl, fs = x.shape  # [batch_size, time_length, input_feature_size]\n",
    "\n",
    "        fc_output = self.fc(x.view(-1, fs))\n",
    "        fc_output = fc_output.view(bs, tl, -1)\n",
    "\n",
    "        logits = fc_output.mean(1)\n",
    "\n",
    "        if introspection:\n",
    "            predictions = torch.argmax(logits, axis=-1)\n",
    "            return fc_output, predictions\n",
    "\n",
    "        return logits"
   ]
  },
  {
   "cell_type": "code",
   "execution_count": 71,
   "id": "11b4e4b6",
   "metadata": {},
   "outputs": [
    {
     "name": "stderr",
     "output_type": "stream",
     "text": [
      "  2%|▏         | 1/50 [00:00<00:13,  3.66it/s]"
     ]
    },
    {
     "name": "stdout",
     "output_type": "stream",
     "text": [
      "Epoch: 001, Train Loss: 1.5987, Test Loss 1.4942, Train Acc: 0.4799, Test Acc: 0.5250\n",
      "\n"
     ]
    },
    {
     "name": "stderr",
     "output_type": "stream",
     "text": [
      "  4%|▍         | 2/50 [00:00<00:11,  4.20it/s]"
     ]
    },
    {
     "name": "stdout",
     "output_type": "stream",
     "text": [
      "Epoch: 002, Train Loss: 0.6366, Test Loss 0.6859, Train Acc: 0.6975, Test Acc: 0.4875\n",
      "\n"
     ]
    },
    {
     "name": "stderr",
     "output_type": "stream",
     "text": [
      "  6%|▌         | 3/50 [00:00<00:10,  4.31it/s]"
     ]
    },
    {
     "name": "stdout",
     "output_type": "stream",
     "text": [
      "Epoch: 003, Train Loss: 0.9263, Test Loss 1.0503, Train Acc: 0.5100, Test Acc: 0.4750\n",
      "\n"
     ]
    },
    {
     "name": "stderr",
     "output_type": "stream",
     "text": [
      "  8%|▊         | 4/50 [00:00<00:10,  4.46it/s]"
     ]
    },
    {
     "name": "stdout",
     "output_type": "stream",
     "text": [
      "Epoch: 004, Train Loss: 0.6398, Test Loss 0.6879, Train Acc: 0.5000, Test Acc: 0.5250\n",
      "\n"
     ]
    },
    {
     "name": "stderr",
     "output_type": "stream",
     "text": [
      " 10%|█         | 5/50 [00:01<00:10,  4.47it/s]"
     ]
    },
    {
     "name": "stdout",
     "output_type": "stream",
     "text": [
      "Epoch: 005, Train Loss: 0.7156, Test Loss 0.7633, Train Acc: 0.5100, Test Acc: 0.5250\n",
      "\n"
     ]
    },
    {
     "name": "stderr",
     "output_type": "stream",
     "text": [
      " 12%|█▏        | 6/50 [00:01<00:09,  4.54it/s]"
     ]
    },
    {
     "name": "stdout",
     "output_type": "stream",
     "text": [
      "Epoch: 006, Train Loss: 0.5834, Test Loss 0.6720, Train Acc: 0.9062, Test Acc: 0.5729\n",
      "\n"
     ]
    },
    {
     "name": "stderr",
     "output_type": "stream",
     "text": [
      " 14%|█▍        | 7/50 [00:01<00:09,  4.57it/s]"
     ]
    },
    {
     "name": "stdout",
     "output_type": "stream",
     "text": [
      "Epoch: 007, Train Loss: 0.6559, Test Loss 0.7887, Train Acc: 0.5100, Test Acc: 0.4750\n",
      "\n"
     ]
    },
    {
     "name": "stderr",
     "output_type": "stream",
     "text": [
      " 16%|█▌        | 8/50 [00:01<00:09,  4.60it/s]"
     ]
    },
    {
     "name": "stdout",
     "output_type": "stream",
     "text": [
      "Epoch: 008, Train Loss: 0.5461, Test Loss 0.6679, Train Acc: 0.8984, Test Acc: 0.5312\n",
      "\n"
     ]
    },
    {
     "name": "stderr",
     "output_type": "stream",
     "text": [
      " 18%|█▊        | 9/50 [00:02<00:08,  4.62it/s]"
     ]
    },
    {
     "name": "stdout",
     "output_type": "stream",
     "text": [
      "Epoch: 009, Train Loss: 0.5591, Test Loss 0.6579, Train Acc: 0.5781, Test Acc: 0.5312\n",
      "\n"
     ]
    },
    {
     "name": "stderr",
     "output_type": "stream",
     "text": [
      " 20%|██        | 10/50 [00:02<00:08,  4.58it/s]"
     ]
    },
    {
     "name": "stdout",
     "output_type": "stream",
     "text": [
      "Epoch: 010, Train Loss: 0.4924, Test Loss 0.6336, Train Acc: 0.9688, Test Acc: 0.7667\n",
      "\n"
     ]
    },
    {
     "name": "stderr",
     "output_type": "stream",
     "text": [
      " 22%|██▏       | 11/50 [00:02<00:08,  4.54it/s]"
     ]
    },
    {
     "name": "stdout",
     "output_type": "stream",
     "text": [
      "Epoch: 011, Train Loss: 0.4947, Test Loss 0.6641, Train Acc: 0.8304, Test Acc: 0.5312\n",
      "\n"
     ]
    },
    {
     "name": "stderr",
     "output_type": "stream",
     "text": [
      " 24%|██▍       | 12/50 [00:02<00:08,  4.55it/s]"
     ]
    },
    {
     "name": "stdout",
     "output_type": "stream",
     "text": [
      "Epoch: 012, Train Loss: 0.4290, Test Loss 0.6167, Train Acc: 0.9665, Test Acc: 0.7063\n",
      "\n"
     ]
    },
    {
     "name": "stderr",
     "output_type": "stream",
     "text": [
      " 26%|██▌       | 13/50 [00:02<00:08,  4.56it/s]"
     ]
    },
    {
     "name": "stdout",
     "output_type": "stream",
     "text": [
      "Epoch: 013, Train Loss: 0.3866, Test Loss 0.5949, Train Acc: 0.9766, Test Acc: 0.7792\n",
      "\n"
     ]
    },
    {
     "name": "stderr",
     "output_type": "stream",
     "text": [
      " 28%|██▊       | 14/50 [00:03<00:07,  4.54it/s]"
     ]
    },
    {
     "name": "stdout",
     "output_type": "stream",
     "text": [
      "Epoch: 014, Train Loss: 0.3534, Test Loss 0.5801, Train Acc: 0.9844, Test Acc: 0.7563\n",
      "\n"
     ]
    },
    {
     "name": "stderr",
     "output_type": "stream",
     "text": [
      " 30%|███       | 15/50 [00:03<00:07,  4.58it/s]"
     ]
    },
    {
     "name": "stdout",
     "output_type": "stream",
     "text": [
      "Epoch: 015, Train Loss: 0.2935, Test Loss 0.6022, Train Acc: 0.9688, Test Acc: 0.6521\n",
      "\n"
     ]
    },
    {
     "name": "stderr",
     "output_type": "stream",
     "text": [
      " 32%|███▏      | 16/50 [00:03<00:07,  4.62it/s]"
     ]
    },
    {
     "name": "stdout",
     "output_type": "stream",
     "text": [
      "Epoch: 016, Train Loss: 0.2562, Test Loss 0.5391, Train Acc: 0.9844, Test Acc: 0.7750\n",
      "\n"
     ]
    },
    {
     "name": "stderr",
     "output_type": "stream",
     "text": [
      " 34%|███▍      | 17/50 [00:03<00:07,  4.60it/s]"
     ]
    },
    {
     "name": "stdout",
     "output_type": "stream",
     "text": [
      "Epoch: 017, Train Loss: 0.1995, Test Loss 0.5432, Train Acc: 0.9844, Test Acc: 0.7167\n",
      "\n"
     ]
    },
    {
     "name": "stderr",
     "output_type": "stream",
     "text": [
      " 36%|███▌      | 18/50 [00:03<00:06,  4.64it/s]"
     ]
    },
    {
     "name": "stdout",
     "output_type": "stream",
     "text": [
      "Epoch: 018, Train Loss: 0.1652, Test Loss 0.5020, Train Acc: 0.9821, Test Acc: 0.7729\n",
      "\n"
     ]
    },
    {
     "name": "stderr",
     "output_type": "stream",
     "text": [
      " 38%|███▊      | 19/50 [00:04<00:06,  4.61it/s]"
     ]
    },
    {
     "name": "stdout",
     "output_type": "stream",
     "text": [
      "Epoch: 019, Train Loss: 0.1236, Test Loss 0.5443, Train Acc: 0.9844, Test Acc: 0.7021\n",
      "\n"
     ]
    },
    {
     "name": "stderr",
     "output_type": "stream",
     "text": [
      " 40%|████      | 20/50 [00:04<00:06,  4.62it/s]"
     ]
    },
    {
     "name": "stdout",
     "output_type": "stream",
     "text": [
      "Epoch: 020, Train Loss: 0.0925, Test Loss 0.4722, Train Acc: 1.0000, Test Acc: 0.7688\n",
      "\n"
     ]
    },
    {
     "name": "stderr",
     "output_type": "stream",
     "text": [
      " 42%|████▏     | 21/50 [00:04<00:06,  4.61it/s]"
     ]
    },
    {
     "name": "stdout",
     "output_type": "stream",
     "text": [
      "Epoch: 021, Train Loss: 0.0717, Test Loss 0.5219, Train Acc: 0.9922, Test Acc: 0.7292\n",
      "\n"
     ]
    },
    {
     "name": "stderr",
     "output_type": "stream",
     "text": [
      " 44%|████▍     | 22/50 [00:04<00:06,  4.58it/s]"
     ]
    },
    {
     "name": "stdout",
     "output_type": "stream",
     "text": [
      "Epoch: 022, Train Loss: 0.0543, Test Loss 0.4630, Train Acc: 1.0000, Test Acc: 0.7688\n",
      "\n"
     ]
    },
    {
     "name": "stderr",
     "output_type": "stream",
     "text": [
      " 46%|████▌     | 23/50 [00:05<00:05,  4.68it/s]"
     ]
    },
    {
     "name": "stdout",
     "output_type": "stream",
     "text": [
      "Epoch: 023, Train Loss: 0.0390, Test Loss 0.4437, Train Acc: 1.0000, Test Acc: 0.7729\n",
      "\n"
     ]
    },
    {
     "name": "stderr",
     "output_type": "stream",
     "text": [
      " 48%|████▊     | 24/50 [00:05<00:05,  4.74it/s]"
     ]
    },
    {
     "name": "stdout",
     "output_type": "stream",
     "text": [
      "Epoch: 024, Train Loss: 0.0272, Test Loss 0.5271, Train Acc: 1.0000, Test Acc: 0.7354\n",
      "\n"
     ]
    },
    {
     "name": "stderr",
     "output_type": "stream",
     "text": [
      " 50%|█████     | 25/50 [00:05<00:05,  4.67it/s]"
     ]
    },
    {
     "name": "stdout",
     "output_type": "stream",
     "text": [
      "Epoch: 025, Train Loss: 0.0188, Test Loss 0.4355, Train Acc: 1.0000, Test Acc: 0.7979\n",
      "\n"
     ]
    },
    {
     "name": "stderr",
     "output_type": "stream",
     "text": [
      " 52%|█████▏    | 26/50 [00:05<00:05,  4.44it/s]"
     ]
    },
    {
     "name": "stdout",
     "output_type": "stream",
     "text": [
      "Epoch: 026, Train Loss: 0.0128, Test Loss 0.4645, Train Acc: 1.0000, Test Acc: 0.7521\n",
      "\n"
     ]
    },
    {
     "name": "stderr",
     "output_type": "stream",
     "text": [
      " 54%|█████▍    | 27/50 [00:05<00:05,  4.43it/s]"
     ]
    },
    {
     "name": "stdout",
     "output_type": "stream",
     "text": [
      "Epoch: 027, Train Loss: 0.0107, Test Loss 0.5331, Train Acc: 1.0000, Test Acc: 0.7500\n",
      "\n"
     ]
    },
    {
     "name": "stderr",
     "output_type": "stream",
     "text": [
      " 56%|█████▌    | 28/50 [00:06<00:04,  4.44it/s]"
     ]
    },
    {
     "name": "stdout",
     "output_type": "stream",
     "text": [
      "Epoch: 028, Train Loss: 0.0077, Test Loss 0.4454, Train Acc: 1.0000, Test Acc: 0.7646\n",
      "\n"
     ]
    },
    {
     "name": "stderr",
     "output_type": "stream",
     "text": [
      " 58%|█████▊    | 29/50 [00:06<00:05,  4.19it/s]"
     ]
    },
    {
     "name": "stdout",
     "output_type": "stream",
     "text": [
      "Epoch: 029, Train Loss: 0.0058, Test Loss 0.4481, Train Acc: 1.0000, Test Acc: 0.7646\n",
      "\n"
     ]
    },
    {
     "name": "stderr",
     "output_type": "stream",
     "text": [
      " 60%|██████    | 30/50 [00:06<00:05,  3.68it/s]"
     ]
    },
    {
     "name": "stdout",
     "output_type": "stream",
     "text": [
      "Epoch: 030, Train Loss: 0.0049, Test Loss 0.5107, Train Acc: 1.0000, Test Acc: 0.7563\n",
      "\n"
     ]
    },
    {
     "name": "stderr",
     "output_type": "stream",
     "text": [
      " 62%|██████▏   | 31/50 [00:07<00:06,  3.15it/s]"
     ]
    },
    {
     "name": "stdout",
     "output_type": "stream",
     "text": [
      "Epoch: 031, Train Loss: 0.0039, Test Loss 0.5094, Train Acc: 1.0000, Test Acc: 0.7563\n",
      "\n"
     ]
    },
    {
     "name": "stderr",
     "output_type": "stream",
     "text": [
      " 64%|██████▍   | 32/50 [00:07<00:06,  2.67it/s]"
     ]
    },
    {
     "name": "stdout",
     "output_type": "stream",
     "text": [
      "Epoch: 032, Train Loss: 0.0033, Test Loss 0.4673, Train Acc: 1.0000, Test Acc: 0.7563\n",
      "\n"
     ]
    },
    {
     "name": "stderr",
     "output_type": "stream",
     "text": [
      " 66%|██████▌   | 33/50 [00:07<00:05,  2.99it/s]"
     ]
    },
    {
     "name": "stdout",
     "output_type": "stream",
     "text": [
      "Epoch: 033, Train Loss: 0.0027, Test Loss 0.4621, Train Acc: 1.0000, Test Acc: 0.7500\n",
      "\n"
     ]
    },
    {
     "name": "stderr",
     "output_type": "stream",
     "text": [
      " 68%|██████▊   | 34/50 [00:08<00:04,  3.26it/s]"
     ]
    },
    {
     "name": "stdout",
     "output_type": "stream",
     "text": [
      "Epoch: 034, Train Loss: 0.0024, Test Loss 0.4962, Train Acc: 1.0000, Test Acc: 0.7563\n",
      "\n"
     ]
    },
    {
     "name": "stderr",
     "output_type": "stream",
     "text": [
      " 70%|███████   | 35/50 [00:08<00:04,  3.53it/s]"
     ]
    },
    {
     "name": "stdout",
     "output_type": "stream",
     "text": [
      "Epoch: 035, Train Loss: 0.0021, Test Loss 0.5156, Train Acc: 1.0000, Test Acc: 0.7563\n",
      "\n"
     ]
    },
    {
     "name": "stderr",
     "output_type": "stream",
     "text": [
      " 72%|███████▏  | 36/50 [00:08<00:03,  3.69it/s]"
     ]
    },
    {
     "name": "stdout",
     "output_type": "stream",
     "text": [
      "Epoch: 036, Train Loss: 0.0018, Test Loss 0.4928, Train Acc: 1.0000, Test Acc: 0.7563\n",
      "\n"
     ]
    },
    {
     "name": "stderr",
     "output_type": "stream",
     "text": [
      " 74%|███████▍  | 37/50 [00:08<00:03,  3.88it/s]"
     ]
    },
    {
     "name": "stdout",
     "output_type": "stream",
     "text": [
      "Epoch: 037, Train Loss: 0.0016, Test Loss 0.4842, Train Acc: 1.0000, Test Acc: 0.7563\n",
      "\n"
     ]
    },
    {
     "name": "stderr",
     "output_type": "stream",
     "text": [
      " 76%|███████▌  | 38/50 [00:09<00:02,  4.03it/s]"
     ]
    },
    {
     "name": "stdout",
     "output_type": "stream",
     "text": [
      "Epoch: 038, Train Loss: 0.0014, Test Loss 0.5057, Train Acc: 1.0000, Test Acc: 0.7563\n",
      "\n"
     ]
    },
    {
     "name": "stderr",
     "output_type": "stream",
     "text": [
      " 78%|███████▊  | 39/50 [00:09<00:02,  4.12it/s]"
     ]
    },
    {
     "name": "stdout",
     "output_type": "stream",
     "text": [
      "Epoch: 039, Train Loss: 0.0014, Test Loss 0.5221, Train Acc: 1.0000, Test Acc: 0.7625\n",
      "\n"
     ]
    },
    {
     "name": "stderr",
     "output_type": "stream",
     "text": [
      " 80%|████████  | 40/50 [00:09<00:02,  3.85it/s]"
     ]
    },
    {
     "name": "stdout",
     "output_type": "stream",
     "text": [
      "Epoch: 040, Train Loss: 0.0012, Test Loss 0.4930, Train Acc: 1.0000, Test Acc: 0.7563\n",
      "\n"
     ]
    },
    {
     "name": "stderr",
     "output_type": "stream",
     "text": [
      " 82%|████████▏ | 41/50 [00:09<00:02,  3.53it/s]"
     ]
    },
    {
     "name": "stdout",
     "output_type": "stream",
     "text": [
      "Epoch: 041, Train Loss: 0.0011, Test Loss 0.4874, Train Acc: 1.0000, Test Acc: 0.7563\n",
      "\n"
     ]
    },
    {
     "name": "stderr",
     "output_type": "stream",
     "text": [
      " 84%|████████▍ | 42/50 [00:10<00:03,  2.66it/s]"
     ]
    },
    {
     "name": "stdout",
     "output_type": "stream",
     "text": [
      "Epoch: 042, Train Loss: 0.0011, Test Loss 0.5115, Train Acc: 1.0000, Test Acc: 0.7625\n",
      "\n"
     ]
    },
    {
     "name": "stderr",
     "output_type": "stream",
     "text": [
      " 86%|████████▌ | 43/50 [00:10<00:02,  2.67it/s]"
     ]
    },
    {
     "name": "stdout",
     "output_type": "stream",
     "text": [
      "Epoch: 043, Train Loss: 0.0010, Test Loss 0.5224, Train Acc: 1.0000, Test Acc: 0.7625\n",
      "\n"
     ]
    },
    {
     "name": "stderr",
     "output_type": "stream",
     "text": [
      " 88%|████████▊ | 44/50 [00:11<00:01,  3.02it/s]"
     ]
    },
    {
     "name": "stdout",
     "output_type": "stream",
     "text": [
      "Epoch: 044, Train Loss: 0.0009, Test Loss 0.5122, Train Acc: 1.0000, Test Acc: 0.7625\n",
      "\n"
     ]
    },
    {
     "name": "stderr",
     "output_type": "stream",
     "text": [
      " 90%|█████████ | 45/50 [00:11<00:01,  3.31it/s]"
     ]
    },
    {
     "name": "stdout",
     "output_type": "stream",
     "text": [
      "Epoch: 045, Train Loss: 0.0009, Test Loss 0.4972, Train Acc: 1.0000, Test Acc: 0.7563\n",
      "\n"
     ]
    },
    {
     "name": "stderr",
     "output_type": "stream",
     "text": [
      " 92%|█████████▏| 46/50 [00:11<00:01,  3.55it/s]"
     ]
    },
    {
     "name": "stdout",
     "output_type": "stream",
     "text": [
      "Epoch: 046, Train Loss: 0.0008, Test Loss 0.5047, Train Acc: 1.0000, Test Acc: 0.7563\n",
      "\n"
     ]
    },
    {
     "name": "stderr",
     "output_type": "stream",
     "text": [
      " 94%|█████████▍| 47/50 [00:11<00:00,  3.81it/s]"
     ]
    },
    {
     "name": "stdout",
     "output_type": "stream",
     "text": [
      "Epoch: 047, Train Loss: 0.0008, Test Loss 0.5024, Train Acc: 1.0000, Test Acc: 0.7563\n",
      "\n"
     ]
    },
    {
     "name": "stderr",
     "output_type": "stream",
     "text": [
      " 96%|█████████▌| 48/50 [00:12<00:00,  3.97it/s]"
     ]
    },
    {
     "name": "stdout",
     "output_type": "stream",
     "text": [
      "Epoch: 048, Train Loss: 0.0008, Test Loss 0.5133, Train Acc: 1.0000, Test Acc: 0.7625\n",
      "\n"
     ]
    },
    {
     "name": "stderr",
     "output_type": "stream",
     "text": [
      " 98%|█████████▊| 49/50 [00:12<00:00,  4.07it/s]"
     ]
    },
    {
     "name": "stdout",
     "output_type": "stream",
     "text": [
      "Epoch: 049, Train Loss: 0.0007, Test Loss 0.5127, Train Acc: 1.0000, Test Acc: 0.7625\n",
      "\n"
     ]
    },
    {
     "name": "stderr",
     "output_type": "stream",
     "text": [
      "100%|██████████| 50/50 [00:12<00:00,  3.98it/s]"
     ]
    },
    {
     "name": "stdout",
     "output_type": "stream",
     "text": [
      "Epoch: 050, Train Loss: 0.0006, Test Loss 0.5198, Train Acc: 1.0000, Test Acc: 0.7625\n",
      "\n"
     ]
    },
    {
     "name": "stderr",
     "output_type": "stream",
     "text": [
      "\n"
     ]
    }
   ],
   "source": [
    "model = MeanMLP(x_train[1].shape[1], 2, 0.1, 256, 2)\n",
    "\n",
    "criterion = nn.CrossEntropyLoss()\n",
    "optimizer = torch.optim.Adam(model.parameters(), lr=0.001)\n",
    "\n",
    "epochs = 50\n",
    "h = train(model, epochs, train_loader, val_loader, criterion, optimizer, scheduler=None, save_best=False, path_to_save=None)"
   ]
  }
 ],
 "metadata": {
  "kernelspec": {
   "display_name": ".venv",
   "language": "python",
   "name": "python3"
  },
  "language_info": {
   "codemirror_mode": {
    "name": "ipython",
    "version": 3
   },
   "file_extension": ".py",
   "mimetype": "text/x-python",
   "name": "python",
   "nbconvert_exporter": "python",
   "pygments_lexer": "ipython3",
   "version": "3.10.12"
  }
 },
 "nbformat": 4,
 "nbformat_minor": 5
}
